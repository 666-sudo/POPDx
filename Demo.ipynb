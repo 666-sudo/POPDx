{
 "cells": [
  {
   "cell_type": "code",
   "execution_count": 1,
   "id": "d8efaa8c",
   "metadata": {},
   "outputs": [],
   "source": [
    "import sys\n",
    "sys.path.append('/oak/stanford/groups/rbaltman/luyang/scripts/POPDx/code/')\n",
    "%load_ext autoreload\n",
    "%autoreload 2"
   ]
  },
  {
   "cell_type": "code",
   "execution_count": 2,
   "id": "ebef5221",
   "metadata": {},
   "outputs": [
    {
     "data": {
      "text/plain": [
       "'/oak/stanford/groups/rbaltman/luyang/software/anaconda3/envs/popdx/bin/python'"
      ]
     },
     "execution_count": 2,
     "metadata": {},
     "output_type": "execute_result"
    }
   ],
   "source": [
    "import sys\n",
    "sys.executable"
   ]
  },
  {
   "cell_type": "code",
   "execution_count": 3,
   "id": "da1ee854",
   "metadata": {},
   "outputs": [
    {
     "name": "stdout",
     "output_type": "stream",
     "text": [
      "usage: use \"python POPDx_train.py --help\" for more information\r\n",
      "\r\n",
      "The script to train POPDx. Please specify the train/val datasets path in the\r\n",
      "python script.\r\n",
      "\r\n",
      "optional arguments:\r\n",
      "  -h, --help            show this help message and exit\r\n",
      "  -d SAVE_DIR, --save_dir SAVE_DIR\r\n",
      "                        The folder to save the trained POPDx model e.g.\r\n",
      "                        \"./save/POPDx_train\"\r\n",
      "  -s HIDDEN_SIZE, --hidden_size HIDDEN_SIZE\r\n",
      "                        Default hidden size is 150.\r\n",
      "  --use_gpu USE_GPU     Default setup is to use GPU.\r\n",
      "  -lr LEARNING_RATE, --learning_rate LEARNING_RATE\r\n",
      "                        Default learning rate is 0.0001\r\n",
      "  -wd WEIGHT_DECAY, --weight_decay WEIGHT_DECAY\r\n",
      "                        Default weight decay is 0\r\n"
     ]
    }
   ],
   "source": [
    "! python code/POPDx_train.py -h"
   ]
  },
  {
   "cell_type": "code",
   "execution_count": 4,
   "id": "cc5504ac",
   "metadata": {
    "scrolled": true
   },
   "outputs": [
    {
     "name": "stdout",
     "output_type": "stream",
     "text": [
      "Namespace(hidden_size=150, learning_rate=0.0001, save_dir='./save/POPDx_train', use_gpu=True, weight_decay=0.0)\n",
      "^C\n"
     ]
    }
   ],
   "source": [
    "! python code/POPDx_train.py -d './save/POPDx_train'"
   ]
  },
  {
   "cell_type": "code",
   "execution_count": 10,
   "id": "eda097e6",
   "metadata": {},
   "outputs": [
    {
     "name": "stdout",
     "output_type": "stream",
     "text": [
      "usage: POPDx_test.py [-h] -m MODEL_PATH -o OUTPUT_PATH [-s HIDDEN_SIZE]\r\n",
      "                     [-b BATCH_SIZE] [--use_gpu USE_GPU]\r\n",
      "\r\n",
      "The script to test POPDx. Please specify the path to the test datasets in the\r\n",
      "python script.\r\n",
      "\r\n",
      "optional arguments:\r\n",
      "  -h, --help            show this help message and exit\r\n",
      "  -m MODEL_PATH, --model_path MODEL_PATH\r\n",
      "                        The path to POPDx model e.g.\r\n",
      "                        \"./save/POPDx_train/best_classifier.pth.tar\"\r\n",
      "  -o OUTPUT_PATH, --output_path OUTPUT_PATH\r\n",
      "                        The output directory e.g. \"./save/POPDx_train/test/\"\r\n",
      "  -s HIDDEN_SIZE, --hidden_size HIDDEN_SIZE\r\n",
      "                        Default hidden size is 150. Consistent with training.\r\n",
      "  -b BATCH_SIZE, --batch_size BATCH_SIZE\r\n",
      "                        Default batch size is 512.\r\n",
      "  --use_gpu USE_GPU     Default setup is to not use GPU for test.\r\n"
     ]
    }
   ],
   "source": [
    "! python code/POPDx_test.py -h "
   ]
  },
  {
   "cell_type": "code",
   "execution_count": 7,
   "id": "bf75c3e0",
   "metadata": {
    "scrolled": true
   },
   "outputs": [
    {
     "name": "stdout",
     "output_type": "stream",
     "text": [
      "Namespace(batch_size=512, hidden_size=150, model_path='./save/POPDx_train/best_classifier.pth.tar', output_path='./save/POPDx_train/test/', use_gpu=False)\n",
      "Done loading data.\n",
      "Done loading model.\n",
      "168it [00:30,  5.53it/s]\n",
      "Predicted test.\n",
      "Generating the test statistics!\n",
      "Setting the negative to positive ratio.\n",
      "100%|███████████████████████████████████████| 1538/1538 [20:48<00:00,  1.23it/s]\n",
      "AURPC and AUROC\n",
      "Time used 2345.732899904251\n"
     ]
    }
   ],
   "source": [
    "! python code/POPDx_test.py -m \"./save/POPDx_train/best_classifier.pth.tar\" -o \"./save/POPDx_train/test/\""
   ]
  },
  {
   "cell_type": "code",
   "execution_count": null,
   "id": "be8fb974",
   "metadata": {},
   "outputs": [],
   "source": []
  }
 ],
 "metadata": {
  "kernelspec": {
   "display_name": "popdx_env",
   "language": "python",
   "name": "popdx_env"
  },
  "language_info": {
   "codemirror_mode": {
    "name": "ipython",
    "version": 3
   },
   "file_extension": ".py",
   "mimetype": "text/x-python",
   "name": "python",
   "nbconvert_exporter": "python",
   "pygments_lexer": "ipython3",
   "version": "3.8.13"
  }
 },
 "nbformat": 4,
 "nbformat_minor": 5
}
