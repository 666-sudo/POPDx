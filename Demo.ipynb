{
 "cells": [
  {
   "cell_type": "code",
   "execution_count": 1,
   "id": "d8efaa8c",
   "metadata": {},
   "outputs": [],
   "source": [
    "import sys\n",
    "sys.path.append('/oak/stanford/groups/rbaltman/luyang/scripts/POPDx/code/')\n",
    "%load_ext autoreload\n",
    "%autoreload 2"
   ]
  },
  {
   "cell_type": "code",
   "execution_count": 6,
   "id": "da1ee854",
   "metadata": {},
   "outputs": [
    {
     "name": "stdout",
     "output_type": "stream",
     "text": [
      "usage: use \"python POPDx_train.py --help\" for more information\r\n",
      "\r\n",
      "The script to train POPDx. Please specify the train/val datasets path in the\r\n",
      "python script.\r\n",
      "\r\n",
      "optional arguments:\r\n",
      "  -h, --help            show this help message and exit\r\n",
      "  -d SAVE_DIR, --save_dir SAVE_DIR\r\n",
      "                        The folder to save the trained POPDx model e.g.\r\n",
      "                        \"./save/POPDx_train\"\r\n",
      "  -s HIDDEN_SIZE, --hidden_size HIDDEN_SIZE\r\n",
      "                        Default hidden size is 150.\r\n",
      "  --use_gpu USE_GPU     Default setup is to use GPU.\r\n",
      "  -lr LEARNING_RATE, --learning_rate LEARNING_RATE\r\n",
      "                        Default learning rate is 0.0001\r\n",
      "  -wd WEIGHT_DECAY, --weight_decay WEIGHT_DECAY\r\n",
      "                        Default learning rate is 0\r\n"
     ]
    }
   ],
   "source": [
    "! python code/POPDx_train.py -h"
   ]
  },
  {
   "cell_type": "code",
   "execution_count": 7,
   "id": "cc5504ac",
   "metadata": {},
   "outputs": [
    {
     "name": "stdout",
     "output_type": "stream",
     "text": [
      "Namespace(hidden_size=150, learning_rate=0.0001, save_dir='./save/POPDx_train', use_gpu=True, weight_decay=0.0)\n",
      "starting epoch 0\n",
      "1702it [00:34, 48.71it/s]\n",
      "[1] Training Loss: 0.017\n",
      "674it [00:09, 71.74it/s]\n",
      "[1] Validation Loss: 0.053\n",
      "0.046625131951197316 saved\n",
      "starting epoch 1\n",
      "1702it [00:31, 54.65it/s]\n",
      "[2] Training Loss: 0.005\n",
      "674it [00:08, 76.77it/s]\n",
      "[2] Validation Loss: 0.045\n",
      "0.045230048241574616 saved\n",
      "starting epoch 2\n",
      "1702it [00:31, 54.25it/s]\n",
      "[3] Training Loss: 0.007\n",
      "674it [00:08, 76.03it/s]\n",
      "[3] Validation Loss: 0.040\n",
      "0.043666935014574394 saved\n",
      "starting epoch 3\n",
      "1702it [00:31, 53.67it/s]\n",
      "[4] Training Loss: 0.023\n",
      "674it [00:08, 75.01it/s]\n",
      "[4] Validation Loss: 0.040\n",
      "0.042381427325418865 saved\n",
      "starting epoch 4\n",
      "1702it [00:32, 52.17it/s]\n",
      "[5] Training Loss: 0.010\n",
      "674it [00:09, 74.67it/s]\n",
      "[5] Validation Loss: 0.037\n",
      "0.04178215405221155 saved\n",
      "starting epoch 5\n",
      "1702it [00:31, 54.41it/s]\n",
      "[6] Training Loss: 0.018\n",
      "674it [00:09, 74.64it/s]\n",
      "[6] Validation Loss: 0.043\n",
      "Validation loss has increased: 1 / 5.\n",
      "starting epoch 6\n",
      "1702it [00:30, 55.90it/s]\n",
      "[7] Training Loss: 0.019\n",
      "674it [00:09, 74.79it/s]\n",
      "[7] Validation Loss: 0.043\n",
      "Validation loss has increased: 2 / 5.\n",
      "starting epoch 7\n",
      "1702it [00:31, 53.83it/s]\n",
      "[8] Training Loss: 0.013\n",
      "674it [00:09, 74.71it/s]\n",
      "[8] Validation Loss: 0.043\n",
      "Validation loss has increased: 3 / 5.\n",
      "starting epoch 8\n",
      "1702it [00:32, 51.60it/s]\n",
      "[9] Training Loss: 0.014\n",
      "674it [00:12, 52.28it/s]\n",
      "[9] Validation Loss: 0.047\n",
      "Validation loss has increased: 4 / 5.\n",
      "starting epoch 9\n",
      "1702it [00:54, 31.09it/s]\n",
      "[10] Training Loss: 0.035\n",
      "674it [00:11, 58.34it/s]\n",
      "[10] Validation Loss: 0.044\n",
      "Validation loss has increased: 5 / 5.\n",
      "Maximum waiting reached. Break the training.\n",
      "Time used 639.6560032367706\n"
     ]
    }
   ],
   "source": [
    "! python code/POPDx_train.py -d './save/POPDx_train'"
   ]
  },
  {
   "cell_type": "code",
   "execution_count": null,
   "id": "c83ab1b5",
   "metadata": {},
   "outputs": [],
   "source": []
  },
  {
   "cell_type": "code",
   "execution_count": null,
   "id": "bf75c3e0",
   "metadata": {},
   "outputs": [],
   "source": []
  }
 ],
 "metadata": {
  "kernelspec": {
   "display_name": "POPDx",
   "language": "python",
   "name": "popdx"
  },
  "language_info": {
   "codemirror_mode": {
    "name": "ipython",
    "version": 3
   },
   "file_extension": ".py",
   "mimetype": "text/x-python",
   "name": "python",
   "nbconvert_exporter": "python",
   "pygments_lexer": "ipython3",
   "version": "3.8.8"
  }
 },
 "nbformat": 4,
 "nbformat_minor": 5
}
