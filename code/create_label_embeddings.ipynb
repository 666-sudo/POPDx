{
 "cells": [
  {
   "cell_type": "code",
   "execution_count": 1,
   "id": "d58208cb",
   "metadata": {},
   "outputs": [],
   "source": [
    "import sys\n",
    "sys.path.append('/oak/stanford/groups/rbaltman/luyang/scripts/POPDx/code/')\n",
    "%load_ext autoreload\n",
    "%autoreload 2"
   ]
  },
  {
   "cell_type": "code",
   "execution_count": 2,
   "id": "e59669e8",
   "metadata": {},
   "outputs": [],
   "source": [
    "from embeddings import *"
   ]
  },
  {
   "cell_type": "code",
   "execution_count": 3,
   "id": "79da5160",
   "metadata": {},
   "outputs": [
    {
     "name": "stdout",
     "output_type": "stream",
     "text": [
      "3.2.0\n"
     ]
    }
   ],
   "source": [
    "import transformers\n",
    "print(transformers.__version__)"
   ]
  },
  {
   "cell_type": "code",
   "execution_count": 4,
   "id": "c3c88a94",
   "metadata": {},
   "outputs": [],
   "source": [
    "l2i, i2l, onto_embeddings = ontology_emb(dim=500, ICD_network_file = '../data/19.csv', save_dir = './embeddings/', use_pretrain = True)"
   ]
  },
  {
   "cell_type": "code",
   "execution_count": 6,
   "id": "704fd1db",
   "metadata": {
    "scrolled": true
   },
   "outputs": [
    {
     "name": "stdout",
     "output_type": "stream",
     "text": [
      "cuda:0\n",
      "Batch # 1\n",
      "Batch # 2\n",
      "Batch # 3\n",
      "Batch # 4\n",
      "Batch # 5\n",
      "Batch # 6\n",
      "Batch # 7\n",
      "Batch # 8\n",
      "Batch # 9\n",
      "Batch # 10\n",
      "Batch # 11\n",
      "Batch # 12\n",
      "Batch # 13\n",
      "Batch # 14\n",
      "Batch # 15\n",
      "Batch # 16\n",
      "Batch # 17\n",
      "Batch # 18\n",
      "Batch # 19\n",
      "Batch # 20\n",
      "Batch # 21\n",
      "Batch # 22\n",
      "Batch # 23\n",
      "Batch # 24\n",
      "Batch # 25\n",
      "Batch # 26\n",
      "Batch # 27\n",
      "Batch # 28\n",
      "Batch # 29\n",
      "Batch # 30\n",
      "Batch # 31\n",
      "Batch # 32\n",
      "Batch # 33\n",
      "Batch # 34\n",
      "Batch # 35\n",
      "Batch # 36\n",
      "Batch # 37\n",
      "Batch # 38\n",
      "Batch # 39\n",
      "Batch # 40\n",
      "Batch # 41\n",
      "Batch # 42\n",
      "Batch # 43\n",
      "Batch # 44\n",
      "Batch # 45\n",
      "Batch # 46\n",
      "Batch # 47\n",
      "Batch # 48\n",
      "Batch # 49\n",
      "Batch # 50\n",
      "Batch # 51\n",
      "Batch # 52\n",
      "Batch # 53\n",
      "Batch # 54\n",
      "Batch # 55\n",
      "Batch # 56\n",
      "Batch # 57\n",
      "Batch # 58\n",
      "Batch # 59\n",
      "Batch # 60\n",
      "Batch # 61\n",
      "Batch # 62\n",
      "Batch # 63\n",
      "Batch # 64\n",
      "Batch # 65\n",
      "Batch # 66\n",
      "Batch # 67\n",
      "Batch # 68\n",
      "Batch # 69\n",
      "Batch # 70\n",
      "Batch # 71\n",
      "Batch # 72\n",
      "Batch # 73\n",
      "Batch # 74\n",
      "Batch # 75\n",
      "Batch # 76\n",
      "Batch # 77\n",
      "Batch # 78\n",
      "Batch # 79\n",
      "Batch # 80\n",
      "Batch # 81\n",
      "Batch # 82\n",
      "Batch # 83\n",
      "Batch # 84\n",
      "Batch # 85\n",
      "Batch # 86\n",
      "Batch # 87\n",
      "Batch # 88\n",
      "Batch # 89\n",
      "Batch # 90\n",
      "Batch # 91\n",
      "Batch # 92\n",
      "Batch # 93\n",
      "Batch # 94\n",
      "Batch # 95\n",
      "Batch # 96\n",
      "Batch # 97\n",
      "Batch # 98\n",
      "Batch # 99\n",
      "Batch # 100\n",
      "Batch # 101\n"
     ]
    }
   ],
   "source": [
    "biboert_embeddings, biboert_embeddings_dict = run_bert(use_pretrain = False)"
   ]
  },
  {
   "cell_type": "code",
   "execution_count": 7,
   "id": "86a1736d",
   "metadata": {},
   "outputs": [
    {
     "name": "stdout",
     "output_type": "stream",
     "text": [
      "(12803, 500) (12803, 768)\n"
     ]
    }
   ],
   "source": [
    "with open('../data/mc_icd10_labels.txt','r') as f:\n",
    "    labels = f.readlines()\n",
    "labels = [x.strip() for x in labels] \n",
    "labels_idx = [l2i[l] for l in labels]\n",
    "onto_embeddings = onto_embeddings[labels_idx, :]\n",
    "print(onto_embeddings.shape,  biboert_embeddings.shape)"
   ]
  },
  {
   "cell_type": "code",
   "execution_count": 8,
   "id": "80037ccc",
   "metadata": {},
   "outputs": [
    {
     "name": "stdout",
     "output_type": "stream",
     "text": [
      "(12803, 1268)\n"
     ]
    }
   ],
   "source": [
    "Y_emb_concat = np.concatenate((onto_embeddings, biboert_embeddings), axis=1)\n",
    "print(Y_emb_concat.shape)"
   ]
  },
  {
   "cell_type": "code",
   "execution_count": 9,
   "id": "7c88d9fe",
   "metadata": {},
   "outputs": [],
   "source": [
    "np.save('../data/icd10_label_embed.npy', Y_emb_concat)"
   ]
  },
  {
   "cell_type": "code",
   "execution_count": null,
   "id": "3af6ac59",
   "metadata": {},
   "outputs": [],
   "source": []
  }
 ],
 "metadata": {
  "kernelspec": {
   "display_name": "popdx_env",
   "language": "python",
   "name": "popdx_env"
  },
  "language_info": {
   "codemirror_mode": {
    "name": "ipython",
    "version": 3
   },
   "file_extension": ".py",
   "mimetype": "text/x-python",
   "name": "python",
   "nbconvert_exporter": "python",
   "pygments_lexer": "ipython3",
   "version": "3.8.13"
  }
 },
 "nbformat": 4,
 "nbformat_minor": 5
}
