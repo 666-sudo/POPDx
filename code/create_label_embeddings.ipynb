{
 "cells": [
  {
   "cell_type": "code",
   "execution_count": 1,
   "id": "7cc67a20",
   "metadata": {},
   "outputs": [],
   "source": [
    "import sys\n",
    "sys.path.append('/oak/stanford/groups/rbaltman/luyang/scripts/POPDx/code/')\n",
    "%load_ext autoreload\n",
    "%autoreload 2"
   ]
  },
  {
   "cell_type": "markdown",
   "id": "35f51bad",
   "metadata": {},
   "source": [
    "### ICD-10 embeddings"
   ]
  },
  {
   "cell_type": "code",
   "execution_count": 2,
   "id": "e59669e8",
   "metadata": {},
   "outputs": [],
   "source": [
    "from embeddings import *"
   ]
  },
  {
   "cell_type": "code",
   "execution_count": 3,
   "id": "79da5160",
   "metadata": {},
   "outputs": [
    {
     "name": "stdout",
     "output_type": "stream",
     "text": [
      "3.2.0\n"
     ]
    }
   ],
   "source": [
    "import transformers\n",
    "print(transformers.__version__)"
   ]
  },
  {
   "cell_type": "code",
   "execution_count": 4,
   "id": "a8ac2c76",
   "metadata": {},
   "outputs": [],
   "source": [
    "l2i, i2l, onto_embeddings = ontology_emb(dim=500, ICD_network_file = '../data/19.csv', save_dir = './embeddings/', use_pretrain = True)"
   ]
  },
  {
   "cell_type": "code",
   "execution_count": 6,
   "id": "704fd1db",
   "metadata": {
    "scrolled": true
   },
   "outputs": [
    {
     "name": "stdout",
     "output_type": "stream",
     "text": [
      "cuda:0\n",
      "Batch # 1\n",
      "Batch # 2\n",
      "Batch # 3\n",
      "Batch # 4\n",
      "Batch # 5\n",
      "Batch # 6\n",
      "Batch # 7\n",
      "Batch # 8\n",
      "Batch # 9\n",
      "Batch # 10\n",
      "Batch # 11\n",
      "Batch # 12\n",
      "Batch # 13\n",
      "Batch # 14\n",
      "Batch # 15\n",
      "Batch # 16\n",
      "Batch # 17\n",
      "Batch # 18\n",
      "Batch # 19\n",
      "Batch # 20\n",
      "Batch # 21\n",
      "Batch # 22\n",
      "Batch # 23\n",
      "Batch # 24\n",
      "Batch # 25\n",
      "Batch # 26\n",
      "Batch # 27\n",
      "Batch # 28\n",
      "Batch # 29\n",
      "Batch # 30\n",
      "Batch # 31\n",
      "Batch # 32\n",
      "Batch # 33\n",
      "Batch # 34\n",
      "Batch # 35\n",
      "Batch # 36\n",
      "Batch # 37\n",
      "Batch # 38\n",
      "Batch # 39\n",
      "Batch # 40\n",
      "Batch # 41\n",
      "Batch # 42\n",
      "Batch # 43\n",
      "Batch # 44\n",
      "Batch # 45\n",
      "Batch # 46\n",
      "Batch # 47\n",
      "Batch # 48\n",
      "Batch # 49\n",
      "Batch # 50\n",
      "Batch # 51\n",
      "Batch # 52\n",
      "Batch # 53\n",
      "Batch # 54\n",
      "Batch # 55\n",
      "Batch # 56\n",
      "Batch # 57\n",
      "Batch # 58\n",
      "Batch # 59\n",
      "Batch # 60\n",
      "Batch # 61\n",
      "Batch # 62\n",
      "Batch # 63\n",
      "Batch # 64\n",
      "Batch # 65\n",
      "Batch # 66\n",
      "Batch # 67\n",
      "Batch # 68\n",
      "Batch # 69\n",
      "Batch # 70\n",
      "Batch # 71\n",
      "Batch # 72\n",
      "Batch # 73\n",
      "Batch # 74\n",
      "Batch # 75\n",
      "Batch # 76\n",
      "Batch # 77\n",
      "Batch # 78\n",
      "Batch # 79\n",
      "Batch # 80\n",
      "Batch # 81\n",
      "Batch # 82\n",
      "Batch # 83\n",
      "Batch # 84\n",
      "Batch # 85\n",
      "Batch # 86\n",
      "Batch # 87\n",
      "Batch # 88\n",
      "Batch # 89\n",
      "Batch # 90\n",
      "Batch # 91\n",
      "Batch # 92\n",
      "Batch # 93\n",
      "Batch # 94\n",
      "Batch # 95\n",
      "Batch # 96\n",
      "Batch # 97\n",
      "Batch # 98\n",
      "Batch # 99\n",
      "Batch # 100\n",
      "Batch # 101\n"
     ]
    }
   ],
   "source": [
    "biboert_embeddings, biboert_embeddings_dict = run_bert(use_pretrain = False)"
   ]
  },
  {
   "cell_type": "code",
   "execution_count": 7,
   "id": "233aa601",
   "metadata": {},
   "outputs": [
    {
     "name": "stdout",
     "output_type": "stream",
     "text": [
      "(12803, 500) (12803, 768)\n"
     ]
    }
   ],
   "source": [
    "with open('../data/mc_icd10_labels.txt','r') as f:\n",
    "    labels = f.readlines()\n",
    "labels = [x.strip() for x in labels] \n",
    "labels_idx = [l2i[l] for l in labels]\n",
    "onto_embeddings = onto_embeddings[labels_idx, :]\n",
    "print(onto_embeddings.shape,  biboert_embeddings.shape)"
   ]
  },
  {
   "cell_type": "code",
   "execution_count": 8,
   "id": "ae641ba5",
   "metadata": {},
   "outputs": [
    {
     "name": "stdout",
     "output_type": "stream",
     "text": [
      "(12803, 1268)\n"
     ]
    }
   ],
   "source": [
    "Y_emb_concat = np.concatenate((onto_embeddings, biboert_embeddings), axis=1)\n",
    "print(Y_emb_concat.shape)"
   ]
  },
  {
   "cell_type": "code",
   "execution_count": 9,
   "id": "e37e447a",
   "metadata": {},
   "outputs": [],
   "source": [
    "np.save('../data/icd10_label_embed.npy', Y_emb_concat)"
   ]
  },
  {
   "cell_type": "markdown",
   "id": "1da8f172",
   "metadata": {},
   "source": [
    "### Phecode embeddings\n"
   ]
  },
  {
   "cell_type": "code",
   "execution_count": 11,
   "id": "c4fdc110",
   "metadata": {},
   "outputs": [],
   "source": [
    "df_phecode = pd.read_csv('../data/Phecode_map_icd10.csv')"
   ]
  },
  {
   "cell_type": "code",
   "execution_count": 12,
   "id": "5e83dc18",
   "metadata": {},
   "outputs": [
    {
     "data": {
      "text/html": [
       "<div>\n",
       "<style scoped>\n",
       "    .dataframe tbody tr th:only-of-type {\n",
       "        vertical-align: middle;\n",
       "    }\n",
       "\n",
       "    .dataframe tbody tr th {\n",
       "        vertical-align: top;\n",
       "    }\n",
       "\n",
       "    .dataframe thead th {\n",
       "        text-align: right;\n",
       "    }\n",
       "</style>\n",
       "<table border=\"1\" class=\"dataframe\">\n",
       "  <thead>\n",
       "    <tr style=\"text-align: right;\">\n",
       "      <th></th>\n",
       "      <th>ICD10</th>\n",
       "      <th>PHECODE</th>\n",
       "      <th>Exl. Phecodes</th>\n",
       "      <th>Excl. Phenotypes</th>\n",
       "    </tr>\n",
       "  </thead>\n",
       "  <tbody>\n",
       "    <tr>\n",
       "      <th>0</th>\n",
       "      <td>A009</td>\n",
       "      <td>8.0</td>\n",
       "      <td>001-009.99</td>\n",
       "      <td>Intestinal infection</td>\n",
       "    </tr>\n",
       "    <tr>\n",
       "      <th>1</th>\n",
       "      <td>A010</td>\n",
       "      <td>8.5</td>\n",
       "      <td>001-009.99</td>\n",
       "      <td>Intestinal infection</td>\n",
       "    </tr>\n",
       "    <tr>\n",
       "      <th>2</th>\n",
       "      <td>A011</td>\n",
       "      <td>8.0</td>\n",
       "      <td>001-009.99</td>\n",
       "      <td>Intestinal infection</td>\n",
       "    </tr>\n",
       "    <tr>\n",
       "      <th>3</th>\n",
       "      <td>A012</td>\n",
       "      <td>8.0</td>\n",
       "      <td>001-009.99</td>\n",
       "      <td>Intestinal infection</td>\n",
       "    </tr>\n",
       "    <tr>\n",
       "      <th>4</th>\n",
       "      <td>A013</td>\n",
       "      <td>8.0</td>\n",
       "      <td>001-009.99</td>\n",
       "      <td>Intestinal infection</td>\n",
       "    </tr>\n",
       "  </tbody>\n",
       "</table>\n",
       "</div>"
      ],
      "text/plain": [
       "  ICD10  PHECODE Exl. Phecodes      Excl. Phenotypes\n",
       "0  A009      8.0    001-009.99  Intestinal infection\n",
       "1  A010      8.5    001-009.99  Intestinal infection\n",
       "2  A011      8.0    001-009.99  Intestinal infection\n",
       "3  A012      8.0    001-009.99  Intestinal infection\n",
       "4  A013      8.0    001-009.99  Intestinal infection"
      ]
     },
     "execution_count": 12,
     "metadata": {},
     "output_type": "execute_result"
    }
   ],
   "source": [
    "df_phecode.head()"
   ]
  },
  {
   "cell_type": "code",
   "execution_count": 18,
   "id": "6957bdab",
   "metadata": {},
   "outputs": [],
   "source": [
    "with open('../data/phecode_labels.txt', 'r') as f:\n",
    "    phecode_labels = f.readlines() \n",
    "phecode_labels = [float(x.strip()) for x in phecode_labels] "
   ]
  },
  {
   "cell_type": "code",
   "execution_count": 22,
   "id": "b2a35407",
   "metadata": {},
   "outputs": [],
   "source": [
    "phecode_labels_emb = np.zeros((1538, 1268))\n",
    "for i,phelabel in enumerate(phecode_labels):\n",
    "    #print(phelabel)\n",
    "    corr_icd10 = df_phecode.loc[df_phecode.PHECODE==phelabel].ICD10.tolist()\n",
    "    corr_idx = []\n",
    "    for l in corr_icd10:\n",
    "        corr_idx.append(labels.index(l))\n",
    "    assert (corr_icd10 == np.array(labels)[corr_idx]).all()\n",
    "    phecode_labels_emb[i,:] = Y_emb_concat[corr_idx, :].mean(axis=0)"
   ]
  },
  {
   "cell_type": "code",
   "execution_count": 21,
   "id": "c9eef54a",
   "metadata": {},
   "outputs": [],
   "source": [
    "np.save('../data/phecode_label_embed.npy', phecode_labels_emb)"
   ]
  }
 ],
 "metadata": {
  "kernelspec": {
   "display_name": "popdx_env",
   "language": "python",
   "name": "popdx_env"
  },
  "language_info": {
   "codemirror_mode": {
    "name": "ipython",
    "version": 3
   },
   "file_extension": ".py",
   "mimetype": "text/x-python",
   "name": "python",
   "nbconvert_exporter": "python",
   "pygments_lexer": "ipython3",
   "version": "3.8.13"
  }
 },
 "nbformat": 4,
 "nbformat_minor": 5
}
